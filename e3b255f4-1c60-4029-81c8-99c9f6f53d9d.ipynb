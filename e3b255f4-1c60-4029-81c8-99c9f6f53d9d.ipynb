{
 "cells": [
  {
   "cell_type": "markdown",
   "metadata": {},
   "source": [
    "# Introducción"
   ]
  },
  {
   "cell_type": "markdown",
   "metadata": {},
   "source": [
    "El servicio de telefonía virtual CallMeMaybe está desarrollando una nueva función que brindará a los supervisores y las supervisores información sobre los operadores menos eficaces. Se considera que un operador es ineficaz si tiene una gran cantidad de llamadas entrantes perdidas (internas y externas) y un tiempo de espera prolongado para las llamadas entrantes. Además, si se supone que un operador debe realizar llamadas salientes, un número reducido de ellas también será un signo de ineficacia.\n",
    "\n",
    "Para este proyecto, realizaré un análisis exploratorio de datos que tendrá como objetivo desarrollar una nueva función que proporcione a los supervisores información crucial sobre el rendimiento de sus operadores, permitiéndoles asi, tomar decisiones informadas para mejorar la eficiencia del servicio."
   ]
  },
  {
   "cell_type": "code",
   "execution_count": 1,
   "metadata": {},
   "outputs": [],
   "source": [
    "# Cargamos todas las librerías\n",
    "import pandas as pd\n",
    "import numpy as np\n",
    "import math as mt \n",
    "import matplotlib.pyplot as plt\n",
    "import seaborn as sns\n",
    "import statistics as stat\n",
    "import plotly.express as px\n",
    "from scipy import stats as st\n",
    "from math import factorial\n",
    "from scipy.stats import chi2_contingency, spearmanr, shapiro, ttest_ind, mannwhitneyu\n",
    "from sklearn.preprocessing import MinMaxScaler\n"
   ]
  },
  {
   "cell_type": "code",
   "execution_count": null,
   "metadata": {},
   "outputs": [],
   "source": [
    "# Leemos los archivos CSV y los asignamos a variables\n",
    "clients = pd.read_csv('/datasets/telecom_clients_us.csv')\n",
    "td = pd.read_csv('/datasets/telecom_dataset_us.csv')"
   ]
  },
  {
   "cell_type": "code",
   "execution_count": 2,
   "metadata": {},
   "outputs": [
    {
     "name": "stdout",
     "output_type": "stream",
     "text": [
      "<class 'pandas.core.frame.DataFrame'>\n",
      "RangeIndex: 732 entries, 0 to 731\n",
      "Data columns (total 3 columns):\n",
      " #   Column       Non-Null Count  Dtype \n",
      "---  ------       --------------  ----- \n",
      " 0   user_id      732 non-null    int64 \n",
      " 1   tariff_plan  732 non-null    object\n",
      " 2   date_start   732 non-null    object\n",
      "dtypes: int64(1), object(2)\n",
      "memory usage: 17.3+ KB\n",
      "\n",
      "   user_id tariff_plan  date_start\n",
      "0   166713           A  2019-08-15\n",
      "1   166901           A  2019-08-23\n",
      "2   168527           A  2019-10-29\n",
      "3   167097           A  2019-09-01\n",
      "4   168193           A  2019-10-16\n",
      "\n",
      "user_id        0\n",
      "tariff_plan    0\n",
      "date_start     0\n",
      "dtype: int64\n",
      "\n",
      "             user_id\n",
      "count     732.000000\n",
      "mean   167431.927596\n",
      "std       633.810383\n",
      "min    166373.000000\n",
      "25%    166900.750000\n",
      "50%    167432.000000\n",
      "75%    167973.000000\n",
      "max    168606.000000\n",
      "\n",
      "Valores duplicados:  0\n"
     ]
    }
   ],
   "source": [
    "# hechamos un vistazo rapido a CLients\n",
    "\n",
    "clients.info()\n",
    "print()\n",
    "print(clients.head())\n",
    "print()\n",
    "print(clients.isna().sum())\n",
    "print()\n",
    "print(clients.describe())\n",
    "print()\n",
    "# Encontramos duplicados considerando todas las columnas\n",
    "print(\"Valores duplicados: \", clients.duplicated(subset=clients.columns, keep=False).sum())  # keep=False marca todos los duplicados\n"
   ]
  },
  {
   "cell_type": "markdown",
   "metadata": {},
   "source": [
    "deacuerdo al vistazo rápido de nuestro dataframe Clients, podemos observar que no tenemos valores ausentes ni duplicados, sin embargo, para cuestiones de análisis en los siguientes pasos, debemos cambiar el tipo de datos para la columna 'date_start' ya que se encuentra en tipo Objeto"
   ]
  },
  {
   "cell_type": "code",
   "execution_count": 3,
   "metadata": {},
   "outputs": [
    {
     "name": "stdout",
     "output_type": "stream",
     "text": [
      "<class 'pandas.core.frame.DataFrame'>\n",
      "RangeIndex: 53902 entries, 0 to 53901\n",
      "Data columns (total 9 columns):\n",
      " #   Column               Non-Null Count  Dtype  \n",
      "---  ------               --------------  -----  \n",
      " 0   user_id              53902 non-null  int64  \n",
      " 1   date                 53902 non-null  object \n",
      " 2   direction            53902 non-null  object \n",
      " 3   internal             53785 non-null  object \n",
      " 4   operator_id          45730 non-null  float64\n",
      " 5   is_missed_call       53902 non-null  bool   \n",
      " 6   calls_count          53902 non-null  int64  \n",
      " 7   call_duration        53902 non-null  int64  \n",
      " 8   total_call_duration  53902 non-null  int64  \n",
      "dtypes: bool(1), float64(1), int64(4), object(3)\n",
      "memory usage: 3.3+ MB\n",
      "\n",
      "   user_id                       date direction internal  operator_id  \\\n",
      "0   166377  2019-08-04 00:00:00+03:00        in    False          NaN   \n",
      "1   166377  2019-08-05 00:00:00+03:00       out     True     880022.0   \n",
      "2   166377  2019-08-05 00:00:00+03:00       out     True     880020.0   \n",
      "3   166377  2019-08-05 00:00:00+03:00       out     True     880020.0   \n",
      "4   166377  2019-08-05 00:00:00+03:00       out    False     880022.0   \n",
      "\n",
      "   is_missed_call  calls_count  call_duration  total_call_duration  \n",
      "0            True            2              0                    4  \n",
      "1            True            3              0                    5  \n",
      "2            True            1              0                    1  \n",
      "3           False            1             10                   18  \n",
      "4            True            3              0                   25  \n",
      "\n",
      "user_id                   0\n",
      "date                      0\n",
      "direction                 0\n",
      "internal                117\n",
      "operator_id            8172\n",
      "is_missed_call            0\n",
      "calls_count               0\n",
      "call_duration             0\n",
      "total_call_duration       0\n",
      "dtype: int64\n",
      "\n",
      "             user_id    operator_id   calls_count  call_duration  \\\n",
      "count   53902.000000   45730.000000  53902.000000   53902.000000   \n",
      "mean   167295.344477  916535.993002     16.451245     866.684427   \n",
      "std       598.883775   21254.123136     62.917170    3731.791202   \n",
      "min    166377.000000  879896.000000      1.000000       0.000000   \n",
      "25%    166782.000000  900788.000000      1.000000       0.000000   \n",
      "50%    167162.000000  913938.000000      4.000000      38.000000   \n",
      "75%    167819.000000  937708.000000     12.000000     572.000000   \n",
      "max    168606.000000  973286.000000   4817.000000  144395.000000   \n",
      "\n",
      "       total_call_duration  \n",
      "count         53902.000000  \n",
      "mean           1157.133297  \n",
      "std            4403.468763  \n",
      "min               0.000000  \n",
      "25%              47.000000  \n",
      "50%             210.000000  \n",
      "75%             902.000000  \n",
      "max          166155.000000  \n",
      "\n",
      "Valores duplicados:  9800\n"
     ]
    }
   ],
   "source": [
    "# hechamos un vistazo rapido al otro dataframe, Telecom_dataset (td)\n",
    "\n",
    "td.info()\n",
    "print()\n",
    "print(td.head())\n",
    "print()\n",
    "print(td.isna().sum())\n",
    "print()\n",
    "print(td.describe())\n",
    "print()\n"
   ]
  },
  {
   "cell_type": "code",
   "execution_count": null,
   "metadata": {},
   "outputs": [],
   "source": [
    "# Encontramos duplicados considerando todas las columnas\n",
    "print(\"Valores duplicados: \", td.duplicated(subset=td.columns, keep=False).sum())  # keep=False marca todos los duplicado"
   ]
  },
  {
   "cell_type": "markdown",
   "metadata": {},
   "source": [
    "deacuerdo al vistazo rápido de nuestro dataframe rd (telecom_database), podemos observar que tenemos valores ausentes en algunas columnas asi como duplicados, para cuestiones de análisis en los siguientes pasos, debemos cambiar el tipo de datos para la columna 'datet' ya que se encuentra en tipo Objeto y analizar si es factible eliminar los valores duplicados y/o ausentes ya que representan un porcentaje considerable de nuestro analisis y podria sesgar nuestros datos."
   ]
  },
  {
   "cell_type": "markdown",
   "metadata": {},
   "source": [
    "# Definir el objetivo\n",
    "\n",
    "**- ¿Qué queremos conseguir con esta información y por qué?**\n",
    "\n",
    "El objetivo de nuestro análisis es desarrollar un sistema para identificar operadores ineficaces con el cual, se busca mejorar la calidad del servicio, reducir la pérdida de clientes y optimizar la asignación de recursos.\n",
    "\n",
    "**- ¿A quién le interesa lo que realizaremos con este análisis?**\n",
    "\n",
    "Nuestro enfoque de interés principal es para los supervisores y gerencia de la empresa CallMeMaybe, los cuales gracias a la ayuda del increible equipo de analistas de Datos, utilizarán esta información para la gestión del rendimiento, la formación de operadores y la planificación de la capacidad. Los cuales se beneficiarán de una mayor eficiencia operativa y satisfacción del cliente.\n",
    "\n",
    "**- ¿Qué decisiones se tomarán de acuerdo a mi análisis?**\n",
    "\n",
    "Se tomarán decisiones sobre la capacitación adicional de los operadores, la reasignación de tareas, la optimización de los flujos de trabajo e incluso posibles medidas disciplinarias o de incentivos. El análisis también puede ayudar a identificar problemas sistémicos que contribuyen a la ineficiencia."
   ]
  },
  {
   "cell_type": "markdown",
   "metadata": {},
   "source": [
    "# Proponer hipótesis"
   ]
  },
  {
   "cell_type": "markdown",
   "metadata": {},
   "source": [
    "Basándonos en la información con la que contamos sobre los datos de la empresa CallMeMaybe, se sugiere la siguiente hipótesis:\n",
    "\n",
    "H0: La tasa de llamadas perdidas no está correlacionada con el tiempo de espera.\n",
    "\n",
    "H1: Existe una correlación positiva.\n",
    "\n",
    "Para esta hipótesis, se propone usar el método de correlación de Spearman, ya que esta mide la fuerza y la dirección de la asociación monotónica entre dos variables. Es decir, significa que a medida que una variable aumenta, la otra tiende a aumentar (o disminuir), pero no necesariamente a un ritmo constante. Es no paramétrica, lo que significa que no asume una distribución normal de los datos.\n",
    "\n",
    "Este metodo nos dará un coeficiente de correlación entre -1 y 1. El cual nos dice que, on valor cercano a 1 indica una fuerte correlación positiva osease, para nuestro analisis a mayor tiempo de espera, mayor tasa de llamadas perdidas. Y un valor cercano a -1 indica una fuerte correlación negativa, y un valor cercano a 0 indica una correlación débil o nula."
   ]
  },
  {
   "cell_type": "markdown",
   "metadata": {},
   "source": [
    "# Convertir las hipótesis en un plan de acción claro"
   ]
  },
  {
   "cell_type": "markdown",
   "metadata": {},
   "source": [
    "Una vez planteada la hipotesis, voy a realizar un plan de accion para poder llegar a la hipotesis y conclusiones.\n",
    "Realizare lo siguiente:\n",
    "    \n",
    "- **Convertir tipo de datos**: como se mencionó anteriormente, las columnas 'date_start' y 'date' están en tipo object, lo cual para el análisis próximo, necesitaremos en formato fecha.\n",
    "\n",
    "- **Eliminar y rellenar valores ausentes**: se necesita hacer un analisis de los valores ausentes para operator_id, ya que cuenta con 8172 valores ausentes. La columna 'internal' contiene solo 117 datos ausentes, al ser tan pocos (de un total de 53902) eliminarlos parece la opcion mas directa\n",
    "\n",
    "- se creará una nueva variable que contendrá toda la info de ambos dataframes (uniendolos con merge)\n",
    "\n",
    "- **analizar duplicados**: ver si los valores duplicados son realmente errores de datos y proceder a eliminarlos o conservarlos\n",
    "\n",
    "- calcular tiempo de espera y tasa de perdidas\n",
    "\n",
    "- crear histogramas y graficas para visualizacion de datos mas claramente \n",
    "\n",
    "- prueba de hipotesis"
   ]
  },
  {
   "cell_type": "code",
   "execution_count": 4,
   "metadata": {},
   "outputs": [
    {
     "name": "stdout",
     "output_type": "stream",
     "text": [
      "<class 'pandas.core.frame.DataFrame'>\n",
      "Int64Index: 53785 entries, 0 to 53901\n",
      "Data columns (total 9 columns):\n",
      " #   Column               Non-Null Count  Dtype                                \n",
      "---  ------               --------------  -----                                \n",
      " 0   user_id              53785 non-null  int64                                \n",
      " 1   date                 53785 non-null  datetime64[ns, pytz.FixedOffset(180)]\n",
      " 2   direction            53785 non-null  object                               \n",
      " 3   internal             53785 non-null  object                               \n",
      " 4   operator_id          53785 non-null  object                               \n",
      " 5   is_missed_call       53785 non-null  bool                                 \n",
      " 6   calls_count          53785 non-null  int64                                \n",
      " 7   call_duration        53785 non-null  int64                                \n",
      " 8   total_call_duration  53785 non-null  int64                                \n",
      "dtypes: bool(1), datetime64[ns, pytz.FixedOffset(180)](1), int64(4), object(3)\n",
      "memory usage: 3.7+ MB\n"
     ]
    }
   ],
   "source": [
    "# Convertir a datetime\n",
    "clients['date_start'] = pd.to_datetime(clients['date_start'])\n",
    "td['date'] = pd.to_datetime(td['date'])\n",
    "\n",
    "#llenamos los valores ausentes y transformamos la columna 'operator_id' a formato string, ya que son IDs\n",
    "td['operator_id']=td['operator_id'].fillna(\"unknown\")\n",
    "td['operator_id'] = td['operator_id'].astype(str).str.split('.').str[0]\n",
    "\n",
    "# Eliminar filas con valores faltantes en 'internal' (td)\n",
    "td.dropna(subset=['internal'], inplace=True)\n",
    "\n",
    "td.info()"
   ]
  },
  {
   "cell_type": "code",
   "execution_count": 5,
   "metadata": {},
   "outputs": [
    {
     "name": "stdout",
     "output_type": "stream",
     "text": [
      "    user_id                      date direction internal operator_id  \\\n",
      "6    166377 2019-08-05 00:00:00+03:00       out    False      880020   \n",
      "8    166377 2019-08-05 00:00:00+03:00       out    False      880020   \n",
      "27   166377 2019-08-12 00:00:00+03:00        in    False     unknown   \n",
      "28   166377 2019-08-12 00:00:00+03:00        in    False     unknown   \n",
      "38   166377 2019-08-14 00:00:00+03:00        in    False     unknown   \n",
      "45   166377 2019-08-14 00:00:00+03:00        in    False     unknown   \n",
      "43   166377 2019-08-14 00:00:00+03:00       out    False      880026   \n",
      "44   166377 2019-08-14 00:00:00+03:00       out    False      880026   \n",
      "46   166377 2019-08-15 00:00:00+03:00       out    False      880026   \n",
      "51   166377 2019-08-15 00:00:00+03:00       out    False      880026   \n",
      "\n",
      "    is_missed_call  calls_count  call_duration  total_call_duration  \n",
      "6             True            8              0                   50  \n",
      "8             True            8              0                   50  \n",
      "27            True            2              0                   34  \n",
      "28            True            2              0                   34  \n",
      "38            True            1              0                    3  \n",
      "45            True            1              0                    3  \n",
      "43           False           10           1567                 1654  \n",
      "44           False           10           1567                 1654  \n",
      "46           False           11           1413                 1473  \n",
      "51           False           11           1413                 1473  \n",
      "\n",
      "user_id  date                       direction\n",
      "166377   2019-08-05 00:00:00+03:00  out          2\n",
      "         2019-08-12 00:00:00+03:00  in           2\n",
      "         2019-08-14 00:00:00+03:00  in           2\n",
      "                                    out          2\n",
      "         2019-08-15 00:00:00+03:00  out          2\n",
      "                                                ..\n",
      "168601   2019-11-20 00:00:00+03:00  out          2\n",
      "         2019-11-25 00:00:00+03:00  in           2\n",
      "         2019-11-26 00:00:00+03:00  in           4\n",
      "168603   2019-11-20 00:00:00+03:00  out          2\n",
      "168606   2019-11-15 00:00:00+03:00  out          2\n",
      "Name: calls_count, Length: 3653, dtype: int64\n"
     ]
    }
   ],
   "source": [
    "# Identificamos todos los duplicados en td\n",
    "td_duplicates = td[td.duplicated(keep=False)]\n",
    "\n",
    "# Ordenamos por columnas clave para mejor visualización\n",
    "td_duplicates = td_duplicates.sort_values(by=['user_id', 'date', 'direction'])\n",
    "\n",
    "# Inspeccionar duplicados\n",
    "print(td_duplicates.head(10))\n",
    "print()\n",
    "\n",
    "#agrupamos los duplicados por 'user_id', 'date' y 'direction' y los contamos\n",
    "duplicates_count = td_duplicates.groupby(['user_id', 'date', 'direction'])['calls_count'].count()\n",
    "print(duplicates_count)"
   ]
  },
  {
   "cell_type": "markdown",
   "metadata": {},
   "source": [
    "Podemos observar que las filas duplicadas parecen registros exactos duplicados en nuestros datos, por lo cual vamos a proceder a eliminarlos para evitar sesgos en nuestros resultados y analisis"
   ]
  },
  {
   "cell_type": "code",
   "execution_count": 6,
   "metadata": {},
   "outputs": [
    {
     "name": "stdout",
     "output_type": "stream",
     "text": [
      "Valores duplicados:  0\n"
     ]
    }
   ],
   "source": [
    "# Eliminamos duplicados idénticos\n",
    "td.drop_duplicates(inplace=True)\n",
    "\n",
    "#comprobamos los duplicados\n",
    "print(\"Valores duplicados: \", td.duplicated(subset=td.columns, keep=False).sum())  # keep=False marca todos los duplicado"
   ]
  },
  {
   "cell_type": "markdown",
   "metadata": {},
   "source": [
    "Una vez que terminamos de limpiar nuestro Dataframe 'td', vamos a crear una columna nueva para el tiempo de espera de las llamadas y posteriormente unir ambos dataframes"
   ]
  },
  {
   "cell_type": "code",
   "execution_count": 7,
   "metadata": {},
   "outputs": [
    {
     "name": "stdout",
     "output_type": "stream",
     "text": [
      "   user_id                      date direction internal operator_id  \\\n",
      "0   166377 2019-08-04 00:00:00+03:00        in    False     unknown   \n",
      "1   166377 2019-08-05 00:00:00+03:00       out     True      880022   \n",
      "2   166377 2019-08-05 00:00:00+03:00       out     True      880020   \n",
      "3   166377 2019-08-05 00:00:00+03:00       out     True      880020   \n",
      "4   166377 2019-08-05 00:00:00+03:00       out    False      880022   \n",
      "\n",
      "   is_missed_call  calls_count  call_duration  total_call_duration  \\\n",
      "0            True            2              0                    4   \n",
      "1            True            3              0                    5   \n",
      "2            True            1              0                    1   \n",
      "3           False            1             10                   18   \n",
      "4            True            3              0                   25   \n",
      "\n",
      "   waiting_time tariff_plan date_start  \n",
      "0             4           B 2019-08-01  \n",
      "1             5           B 2019-08-01  \n",
      "2             1           B 2019-08-01  \n",
      "3             8           B 2019-08-01  \n",
      "4            25           B 2019-08-01  \n"
     ]
    }
   ],
   "source": [
    "# Creamos una columna nueva llamada 'waiting_time'\n",
    "td['waiting_time'] = td['total_call_duration'] - td['call_duration']\n",
    "\n",
    "# Unimos los dataframes (Left join utilizando 'td' como tabla izquierda)\n",
    "telecom_total = td.merge(clients, on='user_id', how='left')\n",
    "\n",
    "print(telecom_total.head())"
   ]
  },
  {
   "cell_type": "code",
   "execution_count": 8,
   "metadata": {},
   "outputs": [
    {
     "name": "stdout",
     "output_type": "stream",
     "text": [
      "     operator_id  missed_call_rate\n",
      "0         879896          0.050538\n",
      "1         879898          0.012172\n",
      "2         880020          0.133333\n",
      "3         880022          0.147208\n",
      "4         880026          0.038978\n",
      "...          ...               ...\n",
      "1088      972412          0.032787\n",
      "1089      972460          0.058824\n",
      "1090      973120          0.333333\n",
      "1091      973286          0.000000\n",
      "1092     unknown          0.069809\n",
      "\n",
      "[1093 rows x 2 columns]\n",
      "\n",
      "   user_id                      date direction internal operator_id  \\\n",
      "0   166377 2019-08-04 00:00:00+03:00        in    False     unknown   \n",
      "1   166377 2019-08-05 00:00:00+03:00       out     True      880022   \n",
      "2   166377 2019-08-05 00:00:00+03:00       out     True      880020   \n",
      "3   166377 2019-08-05 00:00:00+03:00       out     True      880020   \n",
      "4   166377 2019-08-05 00:00:00+03:00       out    False      880022   \n",
      "5   166377 2019-08-05 00:00:00+03:00       out    False      880020   \n",
      "6   166377 2019-08-05 00:00:00+03:00       out    False      880020   \n",
      "7   166377 2019-08-05 00:00:00+03:00        in    False     unknown   \n",
      "8   166377 2019-08-06 00:00:00+03:00        in    False     unknown   \n",
      "9   166377 2019-08-06 00:00:00+03:00       out    False      881278   \n",
      "\n",
      "   is_missed_call  calls_count  call_duration  total_call_duration  \\\n",
      "0            True            2              0                    4   \n",
      "1            True            3              0                    5   \n",
      "2            True            1              0                    1   \n",
      "3           False            1             10                   18   \n",
      "4            True            3              0                   25   \n",
      "5           False            2              3                   29   \n",
      "6            True            8              0                   50   \n",
      "7            True            6              0                   35   \n",
      "8            True            4              0                   62   \n",
      "9            True            3              0                   29   \n",
      "\n",
      "   waiting_time tariff_plan date_start  missed_call_rate  \n",
      "0             4           B 2019-08-01          0.069809  \n",
      "1             5           B 2019-08-01          0.147208  \n",
      "2             1           B 2019-08-01          0.133333  \n",
      "3             8           B 2019-08-01          0.133333  \n",
      "4            25           B 2019-08-01          0.147208  \n",
      "5            26           B 2019-08-01          0.133333  \n",
      "6            50           B 2019-08-01          0.133333  \n",
      "7            35           B 2019-08-01          0.069809  \n",
      "8            62           B 2019-08-01          0.069809  \n",
      "9            29           B 2019-08-01          0.350000  \n"
     ]
    }
   ],
   "source": [
    "# Calculamos la tasa de llamadas perdidas\n",
    "missed_calls = telecom_total.groupby('operator_id')['is_missed_call'].sum()\n",
    "total_calls = telecom_total.groupby('operator_id')['calls_count'].sum()\n",
    "missed_call_rate = missed_calls / total_calls\n",
    "missed_call_rate = missed_call_rate.reset_index().rename(columns={0:'missed_call_rate'})\n",
    "\n",
    "print(missed_call_rate)\n",
    "\n",
    "# Unimos el dataframe con la tasa de llamadas perdidas \n",
    "telecom_total = pd.merge(telecom_total,missed_call_rate, on = 'operator_id', how = 'left')\n",
    "print()\n",
    "print(telecom_total.head(10))\n"
   ]
  },
  {
   "cell_type": "code",
   "execution_count": 9,
   "metadata": {},
   "outputs": [
    {
     "data": {
      "image/png": "[encoded data removed]",
      "text/plain": [
       "<Figure size 640x480 with 1 Axes>"
      ]
     },
     "metadata": {},
     "output_type": "display_data"
    }
   ],
   "source": [
    "# Dividimos waiting_time en cuartiles \n",
    "telecom_total['waiting_time_group'] = pd.qcut(telecom_total['waiting_time'], 4)\n",
    "\n",
    "sns.boxplot(x='waiting_time_group', y='missed_call_rate', data=telecom_total)\n",
    "plt.xticks(rotation=45, ha='right')\n",
    "plt.title(\"Distribución de tasa de llamadas perdidas por grupo\")\n",
    "plt.show()"
   ]
  },
  {
   "cell_type": "markdown",
   "metadata": {},
   "source": [
    "Esta gráfica de Boxplot muestra la distribución de la tasa de llamadas perdidas para diferentes grupos de tiempo de espera. Cada caja representa un cuartil de los datos de tiempo de espera. Las medianas de la tasa de llamadas perdidas son bastante similares en todos los grupos de tiempo de espera, lo que podemos interpretar como que no hay una gran diferencia en la tendencia central de la tasa de llamadas perdidas entre los diferentes cuartiles de tiempo de espera. Tambien podemos denotar que hay bastantes valores atípicos en los primeros tres cuartiles de tiempo de espera. Estas representan operadores con tasas de llamadas perdidas inusualmente altas para su grupo de tiempo de espera. Esto nos sugiere que puede haber otros factores además del tiempo de espera que influyen en la tasa de llamadas perdidas, especialmente para tiempos de espera bajos y medios."
   ]
  },
  {
   "cell_type": "markdown",
   "metadata": {},
   "source": [
    "# Prueba de hipótesis"
   ]
  },
  {
   "cell_type": "markdown",
   "metadata": {},
   "source": [
    "probamos la hipotesis que planteamos anteriormente:\n",
    "\n",
    "**H0**: La tasa de llamadas perdidas no está correlacionada con el tiempo de espera.\n",
    "\n",
    "**H1**: Existe una correlación positiva.\n",
    "\n",
    "proponemos el nivel de significancia en 0.5 \n"
   ]
  },
  {
   "cell_type": "code",
   "execution_count": 10,
   "metadata": {},
   "outputs": [
    {
     "name": "stdout",
     "output_type": "stream",
     "text": [
      "Coeficiente de correlación de Spearman: -0.4344993945954758\n",
      "Valor p: 0.0\n",
      "Se rechaza la hipótesis nula.\n",
      "Existe una correlación negativa significativa entre el tiempo de espera y la tasa de llamadas perdidas.\n"
     ]
    }
   ],
   "source": [
    "correlation, pvalue = spearmanr(telecom_total['waiting_time'], telecom_total['missed_call_rate'])\n",
    "\n",
    "print(f\"Coeficiente de correlación de Spearman: {correlation}\")\n",
    "print(f\"Valor p: {pvalue}\")\n",
    "\n",
    "alpha = 0.05  # Nivel de significancia\n",
    "\n",
    "if pvalue < alpha:\n",
    "    print(\"Se rechaza la hipótesis nula.\")\n",
    "    if correlation > 0:\n",
    "        print(\"Existe una correlación positiva significativa entre el tiempo de espera y la tasa de llamadas perdidas.\")\n",
    "    elif correlation < 0:\n",
    "        print(\"Existe una correlación negativa significativa entre el tiempo de espera y la tasa de llamadas perdidas.\")\n",
    "        \n",
    "else:\n",
    "    print(\"No se rechaza la hipótesis nula. No hay suficiente evidencia para concluir que existe una correlación entre el tiempo de espera y la tasa de llamadas perdidas.\")"
   ]
  },
  {
   "cell_type": "code",
   "execution_count": 11,
   "metadata": {},
   "outputs": [
    {
     "data": {
      "image/png": "[encoded data removed]",
      "text/plain": [
       "<Figure size 640x480 with 1 Axes>"
      ]
     },
     "metadata": {},
     "output_type": "display_data"
    }
   ],
   "source": [
    "#gráfica para visualizar la relación\n",
    "plt.scatter(telecom_total['waiting_time'], telecom_total['missed_call_rate'])\n",
    "plt.xlabel(\"Tiempo de espera\")\n",
    "plt.ylabel(\"Tasa de llamadas perdidas\")\n",
    "plt.title(\"Relación entre tiempo de espera y tasa de llamadas perdidas\")\n",
    "plt.show()"
   ]
  },
  {
   "cell_type": "markdown",
   "metadata": {},
   "source": [
    "Deacuerdo a nuestro analisis y prueba de hipotesis, la prueba de Spearman muestra una correlación negativa moderadamente fuerte del -0.43 y estadísticamente significativa entre el tiempo de espera y la tasa de llamadas perdidas. \n",
    "Esto nos dice que, a medida que aumenta el tiempo de espera, la tasa de llamadas perdidas disminuye."
   ]
  },
  {
   "cell_type": "markdown",
   "metadata": {},
   "source": [
    "## se propone otra hipótesis para analizar mas a fondo otra información relevante\n",
    "\n",
    "Hipótesis:\n",
    "\n",
    "**H0**: No hay diferencia en el tiempo de espera entre operadores eficientes e ineficientes.\n",
    "\n",
    "**H1**: Hay una diferencia en el tiempo de espera entre operadores eficientes e ineficientes."
   ]
  },
  {
   "cell_type": "code",
   "execution_count": 12,
   "metadata": {},
   "outputs": [
    {
     "name": "stdout",
     "output_type": "stream",
     "text": [
      "operator_efficiency\n",
      "Efficient      36669\n",
      "Inefficient    12223\n",
      "Name: operator_id, dtype: int64\n",
      "   user_id                      date direction internal operator_id  \\\n",
      "0   166377 2019-08-04 00:00:00+03:00        in    False     unknown   \n",
      "1   166377 2019-08-05 00:00:00+03:00       out     True      880022   \n",
      "2   166377 2019-08-05 00:00:00+03:00       out     True      880020   \n",
      "3   166377 2019-08-05 00:00:00+03:00       out     True      880020   \n",
      "4   166377 2019-08-05 00:00:00+03:00       out    False      880022   \n",
      "\n",
      "   is_missed_call  calls_count  call_duration  total_call_duration  \\\n",
      "0            True            2              0                    4   \n",
      "1            True            3              0                    5   \n",
      "2            True            1              0                    1   \n",
      "3           False            1             10                   18   \n",
      "4            True            3              0                   25   \n",
      "\n",
      "   waiting_time tariff_plan date_start  missed_call_rate waiting_time_group  \\\n",
      "0             4           B 2019-08-01          0.069809     (-0.001, 17.0]   \n",
      "1             5           B 2019-08-01          0.147208     (-0.001, 17.0]   \n",
      "2             1           B 2019-08-01          0.133333     (-0.001, 17.0]   \n",
      "3             8           B 2019-08-01          0.133333     (-0.001, 17.0]   \n",
      "4            25           B 2019-08-01          0.147208       (17.0, 55.0]   \n",
      "\n",
      "   missed_call_rate_std  waiting_time_std  efficiency_index  \\\n",
      "0              0.069809          0.000086          1.351073   \n",
      "1              0.147208          0.000108          1.296879   \n",
      "2              0.133333          0.000022          1.306652   \n",
      "3              0.133333          0.000172          1.306546   \n",
      "4              0.147208          0.000538          1.296578   \n",
      "\n",
      "  operator_efficiency  \n",
      "0           Efficient  \n",
      "1         Inefficient  \n",
      "2         Inefficient  \n",
      "3         Inefficient  \n",
      "4         Inefficient  \n"
     ]
    }
   ],
   "source": [
    "# Definimos umbrales individuales, percentil 75 para eficiencia\n",
    "missed_call_th = telecom_total['missed_call_rate'].quantile(0.75)\n",
    "waiting_time_th = telecom_total['waiting_time'].quantile(0.75)\n",
    "\n",
    "# Estandarizamos  missed_call_rate y waiting_time\n",
    "scaler = MinMaxScaler()\n",
    "telecom_total['missed_call_rate_std'] = scaler.fit_transform(telecom_total[['missed_call_rate']])\n",
    "telecom_total['waiting_time_std'] = scaler.fit_transform(telecom_total[['waiting_time']])\n",
    "\n",
    "#ajustamos el peso a .7 para dar un margen mas estricto a eficiencia\n",
    "w1 = 0.7  # Peso para missed_call_rate\n",
    "w2 = 0.7  # Peso para waiting_time\n",
    "\n",
    "telecom_total['efficiency_index'] = w1 * (1 - telecom_total['missed_call_rate_std']) + w2 * (1- telecom_total['waiting_time_std'])\n",
    "\n",
    "#Clasificamos operadores según el indice con percentil 25\n",
    "efficiency_threshold = telecom_total['efficiency_index'].quantile(0.25)\n",
    "telecom_total['operator_efficiency'] = np.where(telecom_total['efficiency_index'] >= efficiency_threshold, 'Efficient', 'Inefficient')\n",
    "print(telecom_total.groupby('operator_efficiency')['operator_id'].count())\n",
    "print(telecom_total.head())"
   ]
  },
  {
   "cell_type": "code",
   "execution_count": 13,
   "metadata": {
    "scrolled": false
   },
   "outputs": [
    {
     "name": "stdout",
     "output_type": "stream",
     "text": [
      "Prueba U de Mann-Whitney: p-value = 0.0\n",
      "Se rechaza la hipotesis nula, hay diferencia entre operadores eficientes e ineficientes\n"
     ]
    },
    {
     "name": "stderr",
     "output_type": "stream",
     "text": [
      "/opt/conda/envs/python3/lib/python3.9/site-packages/scipy/stats/_morestats.py:1816: UserWarning: p-value may not be accurate for N > 5000.\n",
      "  warnings.warn(\"p-value may not be accurate for N > 5000.\")\n"
     ]
    },
    {
     "data": {
      "image/png": "[encoded data removed]",
      "text/plain": [
       "<Figure size 640x480 with 1 Axes>"
      ]
     },
     "metadata": {},
     "output_type": "display_data"
    },
    {
     "data": {
      "image/png": "[encoded data removed]",
      "text/plain": [
       "<Figure size 640x480 with 1 Axes>"
      ]
     },
     "metadata": {},
     "output_type": "display_data"
    }
   ],
   "source": [
    "#Si p-value < 0.05 entonces no hay normalidad y no puedo usar t-test\n",
    "\n",
    "efficient_wt= telecom_total[telecom_total['operator_efficiency'] == 'Efficient']['waiting_time'].dropna()\n",
    "inefficient_wt = telecom_total[telecom_total['operator_efficiency'] == 'Inefficient']['waiting_time'].dropna()\n",
    "\n",
    "\n",
    "test_efficient = shapiro(efficient_wt)\n",
    "test_inefficient = shapiro(inefficient_wt)\n",
    "\n",
    "# si alguno de los grupos no es normal, se hace test no parametrico\n",
    "if test_efficient.pvalue <0.05 or test_inefficient.pvalue < 0.05: \n",
    "\n",
    "    statistic, p_value = mannwhitneyu(telecom_total[telecom_total['operator_efficiency'] == 'Efficient']['waiting_time'], telecom_total[telecom_total['operator_efficiency'] == 'Inefficient']['waiting_time'], alternative='two-sided')\n",
    "    print(f\"Prueba U de Mann-Whitney: p-value = {p_value}\")\n",
    "\n",
    "    if p_value< 0.05:\n",
    "\n",
    "        print('Se rechaza la hipotesis nula, hay diferencia entre operadores eficientes e ineficientes')\n",
    "    else:\n",
    "        print('NO se rechaza la hipotesis nula')\n",
    "\n",
    "else:\n",
    "\n",
    "    statistic, p_value = ttest_ind(efficient_wt, inefficient_wt, equal_var=False, nan_policy='omit')\n",
    "    print(f\"Prueba t: p-value = {p_value}\")\n",
    "\n",
    "    if p_value< 0.05:\n",
    "\n",
    "        print('Se rechaza la hipotesis nula, por lo tanto hay diferencia entre operadores eficientes e ineficientes en cuanto a waiting_time, usando t-test')\n",
    "\n",
    "    else:\n",
    "        print('NO se rechaza la hipotesis nula')\n",
    "        \n",
    "\n",
    "sns.boxplot(y='waiting_time', x='operator_efficiency', data=telecom_total)\n",
    "plt.xlabel(\"Eficiencia del operador\")\n",
    "plt.ylabel(\"Tiempo de espera\")\n",
    "plt.title(\"Distribución del tiempo de espera según la eficiencia del operador\")\n",
    "plt.show()\n",
    "\n",
    "# Por defecto usa la media\n",
    "sns.barplot(x='operator_efficiency', y='waiting_time', data=telecom_total) \n",
    "plt.xlabel(\"Eficiencia del operador\")\n",
    "plt.ylabel(\"Tiempo de espera promedio\")\n",
    "plt.title(\"Tiempo de espera promedio según la eficiencia del operador\")\n",
    "plt.show()"
   ]
  },
  {
   "cell_type": "markdown",
   "metadata": {},
   "source": [
    "Deacuerdo a nuestro analisis de la segunda hipotesis propuesta, hay estadisticamente una diferencia significativa entre los operadores eficientes e ineficientes, podemos observar en nuestro Boxplot evidencia visual de que los operadores clasificados como \"ineficientes\" tienden a tener tiempos de espera considerablemente más largos que los operadores \"eficientes\". \n",
    "se agregó una grafica de barras para mejor visualizacion a nivel presentación."
   ]
  }
 ],
 "metadata": {
  "ExecuteTimeLog": [
   {
    "duration": 2715,
    "start_time": "2025-02-09T18:33:24.715Z"
   },
   {
    "duration": 8,
    "start_time": "2025-02-09T18:37:39.048Z"
   },
   {
    "duration": 870,
    "start_time": "2025-02-09T18:40:44.750Z"
   },
   {
    "duration": 18,
    "start_time": "2025-02-09T18:40:45.622Z"
   },
   {
    "duration": 59,
    "start_time": "2025-02-09T18:40:45.642Z"
   },
   {
    "duration": 129,
    "start_time": "2025-02-09T18:40:45.703Z"
   },
   {
    "duration": 35,
    "start_time": "2025-02-09T18:40:45.835Z"
   },
   {
    "duration": 28,
    "start_time": "2025-02-09T18:40:45.871Z"
   },
   {
    "duration": 14,
    "start_time": "2025-02-09T18:40:45.901Z"
   },
   {
    "duration": 29,
    "start_time": "2025-02-09T18:40:45.917Z"
   },
   {
    "duration": 144,
    "start_time": "2025-02-09T18:40:45.970Z"
   },
   {
    "duration": 150,
    "start_time": "2025-02-09T18:48:00.971Z"
   },
   {
    "duration": 887,
    "start_time": "2025-02-09T18:48:16.758Z"
   },
   {
    "duration": 24,
    "start_time": "2025-02-09T18:48:17.647Z"
   },
   {
    "duration": 47,
    "start_time": "2025-02-09T18:48:17.673Z"
   },
   {
    "duration": 127,
    "start_time": "2025-02-09T18:48:17.722Z"
   },
   {
    "duration": 37,
    "start_time": "2025-02-09T18:48:17.851Z"
   },
   {
    "duration": 30,
    "start_time": "2025-02-09T18:48:17.890Z"
   },
   {
    "duration": 14,
    "start_time": "2025-02-09T18:48:17.922Z"
   },
   {
    "duration": 47,
    "start_time": "2025-02-09T18:48:17.938Z"
   },
   {
    "duration": 169,
    "start_time": "2025-02-09T18:48:17.987Z"
   },
   {
    "duration": 163,
    "start_time": "2025-02-09T19:30:01.734Z"
   },
   {
    "duration": 30,
    "start_time": "2025-02-09T19:43:13.899Z"
   },
   {
    "duration": 283,
    "start_time": "2025-02-09T20:03:19.150Z"
   },
   {
    "duration": 39,
    "start_time": "2025-02-09T20:03:48.656Z"
   },
   {
    "duration": 1086,
    "start_time": "2025-02-09T20:03:58.091Z"
   },
   {
    "duration": 17,
    "start_time": "2025-02-09T20:03:59.181Z"
   },
   {
    "duration": 47,
    "start_time": "2025-02-09T20:03:59.200Z"
   },
   {
    "duration": 92,
    "start_time": "2025-02-09T20:03:59.249Z"
   },
   {
    "duration": 34,
    "start_time": "2025-02-09T20:03:59.345Z"
   },
   {
    "duration": 32,
    "start_time": "2025-02-09T20:03:59.381Z"
   },
   {
    "duration": 15,
    "start_time": "2025-02-09T20:03:59.415Z"
   },
   {
    "duration": 46,
    "start_time": "2025-02-09T20:03:59.431Z"
   },
   {
    "duration": 149,
    "start_time": "2025-02-09T20:03:59.478Z"
   },
   {
    "duration": 43,
    "start_time": "2025-02-09T20:03:59.628Z"
   },
   {
    "duration": 12,
    "start_time": "2025-02-09T20:03:59.672Z"
   },
   {
    "duration": 3,
    "start_time": "2025-02-09T20:03:59.686Z"
   },
   {
    "duration": 0,
    "start_time": "2025-02-09T20:03:59.691Z"
   },
   {
    "duration": 292,
    "start_time": "2025-02-09T20:04:56.691Z"
   },
   {
    "duration": 202,
    "start_time": "2025-02-09T20:05:09.508Z"
   },
   {
    "duration": 204,
    "start_time": "2025-02-09T20:05:57.448Z"
   },
   {
    "duration": 212,
    "start_time": "2025-02-09T20:11:58.509Z"
   },
   {
    "duration": 35,
    "start_time": "2025-02-09T20:12:24.973Z"
   },
   {
    "duration": 1072,
    "start_time": "2025-02-09T20:13:27.345Z"
   },
   {
    "duration": 19,
    "start_time": "2025-02-09T20:13:28.419Z"
   },
   {
    "duration": 69,
    "start_time": "2025-02-09T20:13:28.441Z"
   },
   {
    "duration": 88,
    "start_time": "2025-02-09T20:13:28.512Z"
   },
   {
    "duration": 27,
    "start_time": "2025-02-09T20:13:28.603Z"
   },
   {
    "duration": 59,
    "start_time": "2025-02-09T20:13:28.633Z"
   },
   {
    "duration": 17,
    "start_time": "2025-02-09T20:13:28.694Z"
   },
   {
    "duration": 33,
    "start_time": "2025-02-09T20:13:28.712Z"
   },
   {
    "duration": 225,
    "start_time": "2025-02-09T20:13:28.747Z"
   },
   {
    "duration": 12,
    "start_time": "2025-02-09T20:13:28.975Z"
   },
   {
    "duration": 218,
    "start_time": "2025-02-09T20:13:28.989Z"
   },
   {
    "duration": 34,
    "start_time": "2025-02-09T20:13:29.209Z"
   },
   {
    "duration": 309,
    "start_time": "2025-02-09T20:13:29.244Z"
   },
   {
    "duration": 38,
    "start_time": "2025-02-09T20:14:44.443Z"
   },
   {
    "duration": 1085,
    "start_time": "2025-02-09T20:14:51.111Z"
   },
   {
    "duration": 17,
    "start_time": "2025-02-09T20:14:52.199Z"
   },
   {
    "duration": 54,
    "start_time": "2025-02-09T20:14:52.218Z"
   },
   {
    "duration": 80,
    "start_time": "2025-02-09T20:14:52.274Z"
   },
   {
    "duration": 37,
    "start_time": "2025-02-09T20:14:52.357Z"
   },
   {
    "duration": 29,
    "start_time": "2025-02-09T20:14:52.396Z"
   },
   {
    "duration": 15,
    "start_time": "2025-02-09T20:14:52.426Z"
   },
   {
    "duration": 52,
    "start_time": "2025-02-09T20:14:52.443Z"
   },
   {
    "duration": 154,
    "start_time": "2025-02-09T20:14:52.497Z"
   },
   {
    "duration": 24,
    "start_time": "2025-02-09T20:14:52.653Z"
   },
   {
    "duration": 227,
    "start_time": "2025-02-09T20:14:52.678Z"
   },
   {
    "duration": 33,
    "start_time": "2025-02-09T20:14:52.907Z"
   },
   {
    "duration": 62,
    "start_time": "2025-02-09T20:14:52.942Z"
   },
   {
    "duration": 1136,
    "start_time": "2025-02-09T20:46:56.187Z"
   },
   {
    "duration": 22,
    "start_time": "2025-02-09T20:46:57.325Z"
   },
   {
    "duration": 64,
    "start_time": "2025-02-09T20:46:57.348Z"
   },
   {
    "duration": 93,
    "start_time": "2025-02-09T20:46:57.415Z"
   },
   {
    "duration": 38,
    "start_time": "2025-02-09T20:46:57.510Z"
   },
   {
    "duration": 58,
    "start_time": "2025-02-09T20:46:57.550Z"
   },
   {
    "duration": 20,
    "start_time": "2025-02-09T20:46:57.610Z"
   },
   {
    "duration": 58,
    "start_time": "2025-02-09T20:46:57.632Z"
   },
   {
    "duration": 155,
    "start_time": "2025-02-09T20:46:57.692Z"
   },
   {
    "duration": 20,
    "start_time": "2025-02-09T20:46:57.850Z"
   },
   {
    "duration": 250,
    "start_time": "2025-02-09T20:46:57.872Z"
   },
   {
    "duration": 45,
    "start_time": "2025-02-09T20:46:58.125Z"
   },
   {
    "duration": 50,
    "start_time": "2025-02-09T20:46:58.172Z"
   },
   {
    "duration": 47,
    "start_time": "2025-02-09T20:49:29.200Z"
   },
   {
    "duration": 166,
    "start_time": "2025-02-09T20:51:37.343Z"
   },
   {
    "duration": 1088,
    "start_time": "2025-02-09T22:37:45.133Z"
   },
   {
    "duration": 18,
    "start_time": "2025-02-09T22:37:46.223Z"
   },
   {
    "duration": 55,
    "start_time": "2025-02-09T22:37:46.243Z"
   },
   {
    "duration": 97,
    "start_time": "2025-02-09T22:37:46.300Z"
   },
   {
    "duration": 26,
    "start_time": "2025-02-09T22:37:46.400Z"
   },
   {
    "duration": 47,
    "start_time": "2025-02-09T22:37:46.427Z"
   },
   {
    "duration": 14,
    "start_time": "2025-02-09T22:37:46.476Z"
   },
   {
    "duration": 29,
    "start_time": "2025-02-09T22:37:46.492Z"
   },
   {
    "duration": 167,
    "start_time": "2025-02-09T22:37:46.523Z"
   },
   {
    "duration": 12,
    "start_time": "2025-02-09T22:37:46.691Z"
   },
   {
    "duration": 225,
    "start_time": "2025-02-09T22:37:46.705Z"
   },
   {
    "duration": 38,
    "start_time": "2025-02-09T22:37:46.932Z"
   },
   {
    "duration": 201,
    "start_time": "2025-02-09T22:37:46.972Z"
   },
   {
    "duration": 1089,
    "start_time": "2025-02-10T01:09:47.009Z"
   },
   {
    "duration": 616,
    "start_time": "2025-02-10T01:10:24.187Z"
   },
   {
    "duration": 1092,
    "start_time": "2025-02-10T02:09:35.955Z"
   },
   {
    "duration": 26,
    "start_time": "2025-02-10T02:09:37.049Z"
   },
   {
    "duration": 68,
    "start_time": "2025-02-10T02:09:37.078Z"
   },
   {
    "duration": 123,
    "start_time": "2025-02-10T02:09:37.151Z"
   },
   {
    "duration": 30,
    "start_time": "2025-02-10T02:09:37.276Z"
   },
   {
    "duration": 31,
    "start_time": "2025-02-10T02:09:37.308Z"
   },
   {
    "duration": 40,
    "start_time": "2025-02-10T02:09:37.340Z"
   },
   {
    "duration": 40,
    "start_time": "2025-02-10T02:09:37.384Z"
   },
   {
    "duration": 159,
    "start_time": "2025-02-10T02:09:37.426Z"
   },
   {
    "duration": 14,
    "start_time": "2025-02-10T02:09:37.587Z"
   },
   {
    "duration": 242,
    "start_time": "2025-02-10T02:09:37.603Z"
   },
   {
    "duration": 37,
    "start_time": "2025-02-10T02:09:37.846Z"
   },
   {
    "duration": 687,
    "start_time": "2025-02-10T02:09:37.885Z"
   },
   {
    "duration": 1176,
    "start_time": "2025-02-10T23:28:26.076Z"
   },
   {
    "duration": 20,
    "start_time": "2025-02-10T23:28:27.254Z"
   },
   {
    "duration": 70,
    "start_time": "2025-02-10T23:28:27.276Z"
   },
   {
    "duration": 85,
    "start_time": "2025-02-10T23:28:27.348Z"
   },
   {
    "duration": 25,
    "start_time": "2025-02-10T23:28:27.435Z"
   },
   {
    "duration": 27,
    "start_time": "2025-02-10T23:28:27.462Z"
   },
   {
    "duration": 28,
    "start_time": "2025-02-10T23:28:27.490Z"
   },
   {
    "duration": 28,
    "start_time": "2025-02-10T23:28:27.519Z"
   },
   {
    "duration": 165,
    "start_time": "2025-02-10T23:28:27.548Z"
   },
   {
    "duration": 12,
    "start_time": "2025-02-10T23:28:27.714Z"
   },
   {
    "duration": 223,
    "start_time": "2025-02-10T23:28:27.728Z"
   },
   {
    "duration": 35,
    "start_time": "2025-02-10T23:28:27.952Z"
   },
   {
    "duration": 899,
    "start_time": "2025-02-10T23:28:27.989Z"
   }
  ],
  "kernelspec": {
   "display_name": "Python 3 (ipykernel)",
   "language": "python",
   "name": "python3"
  },
  "language_info": {
   "codemirror_mode": {
    "name": "ipython",
    "version": 3
   },
   "file_extension": ".py",
   "mimetype": "text/x-python",
   "name": "python",
   "nbconvert_exporter": "python",
   "pygments_lexer": "ipython3",
   "version": "3.9.19"
  },
  "toc": {
   "base_numbering": 1,
   "nav_menu": {},
   "number_sections": true,
   "sideBar": true,
   "skip_h1_title": true,
   "title_cell": "Table of Contents",
   "title_sidebar": "Contents",
   "toc_cell": false,
   "toc_position": {},
   "toc_section_display": true,
   "toc_window_display": false
  }
 },
 "nbformat": 4,
 "nbformat_minor": 2
}
